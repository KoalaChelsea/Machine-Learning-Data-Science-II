{
 "cells": [
  {
   "cell_type": "code",
   "execution_count": 1,
   "metadata": {},
   "outputs": [],
   "source": [
    "import numpy as np\n",
    "import matplotlib.pyplot as plt\n",
    "%matplotlib inline"
   ]
  },
  {
   "cell_type": "markdown",
   "metadata": {},
   "source": [
    "## Intro to Keras"
   ]
  },
  {
   "cell_type": "markdown",
   "metadata": {},
   "source": [
    "### Data: Pipeline\n",
    "- Previously we saw how to download data using `keras`\n",
    "- Our data pipeline will follow the steps:\n",
    "    1. Download data\n",
    "    2. Check size of data\n",
    "    3. Convert numeric values to categories using one-hot-encoding\n",
    "    4. Convert data to `float32`\n",
    "    5. Reshape data \n",
    "    6. Rescale the data (so that the values are between 0 and 1)\n",
    "- The aforementioned steps are common in most pre-processing steps before the data can be used\n",
    "- As we move forward in the course a similar approach will be used with other datasets\n",
    "- Note:\n",
    "    - When saving a model's weights, `tf.keras defaults` to the checkpoint format\n",
    "    - Pass `save_format='h5'` to use `HDF5`"
   ]
  },
  {
   "cell_type": "code",
   "execution_count": 2,
   "metadata": {},
   "outputs": [
    {
     "name": "stderr",
     "output_type": "stream",
     "text": [
      "Using TensorFlow backend.\n"
     ]
    },
    {
     "name": "stdout",
     "output_type": "stream",
     "text": [
      "The number of training examples: (60000, 28, 28)\n",
      "The number of test examples: (10000, 28, 28)\n"
     ]
    },
    {
     "data": {
      "image/png": "[encoded data removed]",
      "text/plain": [
       "<Figure size 432x288 with 1 Axes>"
      ]
     },
     "metadata": {
      "needs_background": "light"
     },
     "output_type": "display_data"
    }
   ],
   "source": [
    "# --- Load data ---\n",
    "from keras.datasets import mnist\n",
    "from keras.utils import np_utils\n",
    "\n",
    "# Load pre-shuffled MNIST data into train and test sets\n",
    "(X_train, y_train), (X_test, y_test) = mnist.load_data()\n",
    "\n",
    "# --- Checking size of MNIST Set ---\n",
    "print(\"The number of training examples: \"+str(X_train.shape))\n",
    "print(\"The number of test examples: \"+str(X_test.shape))\n",
    "\n",
    "# --- Y_train to categorical ---\n",
    "# Need to change these from numbers to categories\n",
    "Y_train = np_utils.to_categorical(y_train, 10)\n",
    "Y_test = np_utils.to_categorical(y_test, 10)\n",
    "\n",
    "# --- Plotting data ---\n",
    "from matplotlib import pyplot as plt\n",
    "plt.imshow(X_train[0])\n",
    "\n",
    "# --- Converting type and Normalize Values ---\n",
    "n_train, l_train, w_train = X_train.shape\n",
    "n_test, l_test, w_test = X_test.shape\n",
    "X_train = X_train.astype('float32').reshape(n_train, l_train * w_train)\n",
    "X_test = X_test.astype('float32').reshape(n_test, l_test * w_test)\n",
    "X_train /= 255\n",
    "X_test /= 255\n",
    "\n",
    "# -- Split Train/Validation set --\n",
    "n_val = 3000\n",
    "X_val = X_train[:n_val,:]; X_train = X_train[n_val:,:]\n",
    "Y_val = Y_train[:n_val,:]; Y_train = Y_train[n_val:,:]"
   ]
  },
  {
   "cell_type": "markdown",
   "metadata": {},
   "source": [
    "### Build a simple model\n",
    "- Keras has two ways to build models:\n",
    "    1. Sequential - stacked layers\n",
    "    2. Functional - multi input/output, recursive cells\n",
    "- Over the next couple of sessions we'll use the sequential model\n",
    "- The functional approach will come into play in the later parts of the session\n",
    "\n",
    "#### Connecting networks\n",
    "- Previously the input-output matrix shape needed to be specified for each layer \n",
    "- Being explicit about shapes is always a good idea since it forces you to think the architecture of the model\n",
    "- `keras` however provides automatic shape inference \n",
    "- Only the first layer's shape needs to be specified, it can be done in several ways:\n",
    "    - `input_shape` - tuple of integers\n",
    "    - `input_dim` - for 2D layers\n",
    "    - `input_dim`, `input_length` - for 3D temporal layers\n",
    "    - *`batch_size` - may be included as an optional parameter with shape, i.e. `batch_size=32, input_shape=(6,8)`"
   ]
  },
  {
   "cell_type": "code",
   "execution_count": 3,
   "metadata": {},
   "outputs": [
    {
     "name": "stdout",
     "output_type": "stream",
     "text": [
      "Model: \"sequential_1\"\n",
      "_________________________________________________________________\n",
      "Layer (type)                 Output Shape              Param #   \n",
      "=================================================================\n",
      "dense_1 (Dense)              (None, 64)                50240     \n",
      "_________________________________________________________________\n",
      "dense_2 (Dense)              (None, 64)                4160      \n",
      "_________________________________________________________________\n",
      "dense_3 (Dense)              (None, 10)                650       \n",
      "=================================================================\n",
      "Total params: 55,050\n",
      "Trainable params: 55,050\n",
      "Non-trainable params: 0\n",
      "_________________________________________________________________\n"
     ]
    }
   ],
   "source": [
    "# --- Import Librarires ----\n",
    "import tensorflow as tf\n",
    "from keras import Sequential\n",
    "from keras.layers import Input, Dense\n",
    "from keras.models import Model\n",
    "\n",
    "# --- Setting up a Sigmoid Sequential Model ---\n",
    "# Initialize model\n",
    "model = Sequential()\n",
    "# Adds a densely-connected layer with 64 units to the model:\n",
    "model.add(Dense(64, input_shape = (784,), activation='sigmoid'))\n",
    "# Add another:\n",
    "model.add(Dense(64, activation='sigmoid'))\n",
    "# Add a softmax layer with 10 output units:\n",
    "model.add(Dense(10, activation='softmax'))\n",
    "# Check model summary\n",
    "model.summary()"
   ]
  },
  {
   "cell_type": "markdown",
   "metadata": {},
   "source": [
    "### Plotting Networks\n"
   ]
  },
  {
   "cell_type": "code",
   "execution_count": 4,
   "metadata": {},
   "outputs": [
    {
     "data": {
      "image/svg+xml": [
       "<svg height=\"352pt\" viewBox=\"0.00 0.00 171.00 264.00\" width=\"228pt\" xmlns=\"http://www.w3.org/2000/svg\" xmlns:xlink=\"http://www.w3.org/1999/xlink\">\n",
       "<g class=\"graph\" id=\"graph0\" transform=\"scale(1.33 1.33) rotate(0) translate(4 260)\">\n",
       "<title>G</title>\n",
       "<polygon fill=\"white\" points=\"-4,4 -4,-260 167,-260 167,4 -4,4\" stroke=\"transparent\"/>\n",
       "<!-- 140338750567504 -->\n",
       "<g class=\"node\" id=\"node1\">\n",
       "<title>140338750567504</title>\n",
       "<polygon fill=\"none\" points=\"0,-219.5 0,-255.5 163,-255.5 163,-219.5 0,-219.5\" stroke=\"black\"/>\n",
       "<text font-family=\"Times,serif\" font-size=\"14.00\" text-anchor=\"middle\" x=\"81.5\" y=\"-233.8\">dense_1_input: InputLayer</text>\n",
       "</g>\n",
       "<!-- 140338456793424 -->\n",
       "<g class=\"node\" id=\"node2\">\n",
       "<title>140338456793424</title>\n",
       "<polygon fill=\"none\" points=\"30.5,-146.5 30.5,-182.5 132.5,-182.5 132.5,-146.5 30.5,-146.5\" stroke=\"black\"/>\n",
       "<text font-family=\"Times,serif\" font-size=\"14.00\" text-anchor=\"middle\" x=\"81.5\" y=\"-160.8\">dense_1: Dense</text>\n",
       "</g>\n",
       "<!-- 140338750567504&#45;&gt;140338456793424 -->\n",
       "<g class=\"edge\" id=\"edge1\">\n",
       "<title>140338750567504-&gt;140338456793424</title>\n",
       "<path d=\"M81.5,-219.31C81.5,-211.29 81.5,-201.55 81.5,-192.57\" fill=\"none\" stroke=\"black\"/>\n",
       "<polygon fill=\"black\" points=\"85,-192.53 81.5,-182.53 78,-192.53 85,-192.53\" stroke=\"black\"/>\n",
       "</g>\n",
       "<!-- 140338408755344 -->\n",
       "<g class=\"node\" id=\"node3\">\n",
       "<title>140338408755344</title>\n",
       "<polygon fill=\"none\" points=\"30.5,-73.5 30.5,-109.5 132.5,-109.5 132.5,-73.5 30.5,-73.5\" stroke=\"black\"/>\n",
       "<text font-family=\"Times,serif\" font-size=\"14.00\" text-anchor=\"middle\" x=\"81.5\" y=\"-87.8\">dense_2: Dense</text>\n",
       "</g>\n",
       "<!-- 140338456793424&#45;&gt;140338408755344 -->\n",
       "<g class=\"edge\" id=\"edge2\">\n",
       "<title>140338456793424-&gt;140338408755344</title>\n",
       "<path d=\"M81.5,-146.31C81.5,-138.29 81.5,-128.55 81.5,-119.57\" fill=\"none\" stroke=\"black\"/>\n",
       "<polygon fill=\"black\" points=\"85,-119.53 81.5,-109.53 78,-119.53 85,-119.53\" stroke=\"black\"/>\n",
       "</g>\n",
       "<!-- 140338456983504 -->\n",
       "<g class=\"node\" id=\"node4\">\n",
       "<title>140338456983504</title>\n",
       "<polygon fill=\"none\" points=\"30.5,-0.5 30.5,-36.5 132.5,-36.5 132.5,-0.5 30.5,-0.5\" stroke=\"black\"/>\n",
       "<text font-family=\"Times,serif\" font-size=\"14.00\" text-anchor=\"middle\" x=\"81.5\" y=\"-14.8\">dense_3: Dense</text>\n",
       "</g>\n",
       "<!-- 140338408755344&#45;&gt;140338456983504 -->\n",
       "<g class=\"edge\" id=\"edge3\">\n",
       "<title>140338408755344-&gt;140338456983504</title>\n",
       "<path d=\"M81.5,-73.31C81.5,-65.29 81.5,-55.55 81.5,-46.57\" fill=\"none\" stroke=\"black\"/>\n",
       "<polygon fill=\"black\" points=\"85,-46.53 81.5,-36.53 78,-46.53 85,-46.53\" stroke=\"black\"/>\n",
       "</g>\n",
       "</g>\n",
       "</svg>"
      ],
      "text/plain": [
       "<IPython.core.display.SVG object>"
      ]
     },
     "execution_count": 4,
     "metadata": {},
     "output_type": "execute_result"
    }
   ],
   "source": [
    "# --- Visualizing the model ----\n",
    "# Note: pydot and graphviz required to run command\n",
    "from keras.utils import plot_model\n",
    "# -- Save model to file --\n",
    "plot_model(model, \n",
    "           to_file='model.png',\n",
    "           show_shapes=True,\n",
    "           show_layer_names=True,\n",
    "           rankdir='TB') #'TB' = vertical plot, 'LR' = Horizontal plot\n",
    "\n",
    "# -- Libraries for plotting inline --\n",
    "from IPython.display import SVG\n",
    "from keras.utils.vis_utils import model_to_dot\n",
    "SVG(model_to_dot(model).create(prog='dot', format='svg'))"
   ]
  },
  {
   "cell_type": "markdown",
   "metadata": {},
   "source": [
    "### Configure the layers\n",
    "- Different layer types are available along with common constructor parameters:\n",
    "- Among the most important is `activation`:\n",
    "    - `sigmoid`,`softmax`, `tanh`, `hard_sigmoid`\n",
    "    - `relu`, `elu`,`selu`\n",
    "    - `linear`\n",
    "    - `softsign`, `softplus`\n",
    "- Advanced activation layers such as `PReLu` and `LeakyReLu` are available through `keras.layers.advanced_activations`\n",
    "- To read more vist the [Advanced Activation Layer](https://keras.io/layers/advanced-activations/) documentation"
   ]
  },
  {
   "cell_type": "code",
   "execution_count": 5,
   "metadata": {},
   "outputs": [
    {
     "name": "stdout",
     "output_type": "stream",
     "text": [
      "Model: \"sequential_1\"\n",
      "_________________________________________________________________\n",
      "Layer (type)                 Output Shape              Param #   \n",
      "=================================================================\n",
      "dense_1 (Dense)              (None, 64)                50240     \n",
      "_________________________________________________________________\n",
      "dense_2 (Dense)              (None, 64)                4160      \n",
      "_________________________________________________________________\n",
      "dense_3 (Dense)              (None, 10)                650       \n",
      "=================================================================\n",
      "Total params: 55,050\n",
      "Trainable params: 55,050\n",
      "Non-trainable params: 0\n",
      "_________________________________________________________________\n"
     ]
    }
   ],
   "source": [
    "# --- Setting up a ReLu Sequential Model ---\n",
    "model2 = Sequential()\n",
    "model2.add(Dense(64,activation='relu', input_shape = (784,)))\n",
    "model2.add(Dense(64, activation='relu'))\n",
    "model2.add(Dense(10, activation='softmax'))\n",
    "model.summary()"
   ]
  },
  {
   "cell_type": "markdown",
   "metadata": {},
   "source": [
    "- Additional parameters when configuring layers include:    \n",
    "    - `use_bias`: boolean indication if bias should be used\n",
    "    - `kernel_initialize` and `bias_initialize`: initializes weight values `\"Glorot uniform\"` is the default\n",
    "    - `kernel_regularizer` and `bias_regularizer`: regularization schemes applied to different layers\n",
    "    - `kernel_constraint` and `bias_constraint` : construction applied to the kernel weights matrix and bias vector respectively"
   ]
  },
  {
   "cell_type": "code",
   "execution_count": 6,
   "metadata": {},
   "outputs": [
    {
     "name": "stdout",
     "output_type": "stream",
     "text": [
      "Model: \"sequential_3\"\n",
      "_________________________________________________________________\n",
      "Layer (type)                 Output Shape              Param #   \n",
      "=================================================================\n",
      "dense_7 (Dense)              (None, 64)                28928     \n",
      "_________________________________________________________________\n",
      "dense_8 (Dense)              (None, 64)                4160      \n",
      "_________________________________________________________________\n",
      "dense_9 (Dense)              (None, 64)                4160      \n",
      "_________________________________________________________________\n",
      "dense_10 (Dense)             (None, 64)                4160      \n",
      "_________________________________________________________________\n",
      "dense_11 (Dense)             (None, 10)                650       \n",
      "=================================================================\n",
      "Total params: 42,058\n",
      "Trainable params: 42,058\n",
      "Non-trainable params: 0\n",
      "_________________________________________________________________\n"
     ]
    }
   ],
   "source": [
    "# --- Setting up a ReLu Sequential Model with Regularizers ---\n",
    "from keras.regularizers import l1, l2\n",
    "from keras.initializers import constant\n",
    "# -- Model build --\n",
    "model3 = Sequential()\n",
    "# ReLu L1 regularization of factor 0.01 applied to the kernel matrix:\n",
    "model3.add(Dense(64, \n",
    "                 activation = 'relu',\n",
    "                 kernel_regularizer=l1(0.01),\n",
    "                 input_shape = (451,)))\n",
    "\n",
    "# ReLu with L2 regularization of factor 0.01 applied to the bias vector:\n",
    "model3.add(Dense(64, bias_regularizer=l2(0.01)))\n",
    "# Layer with a kernel initialized to a random orthogonal matrix:\n",
    "model3.add(Dense(64, kernel_initializer='orthogonal'))\n",
    "# Layer with a bias vector initialized to 2.0s:\n",
    "model3.add(Dense(64, bias_initializer=constant(2.0)))\n",
    "# Sigmoid output unit\n",
    "model3.add(Dense(10, activation='softmax'))\n",
    "# Model summary\n",
    "model3.summary()"
   ]
  },
  {
   "cell_type": "markdown",
   "metadata": {},
   "source": [
    "### Compiling a model\n",
    "- Once the model is constructed it needs to be __compiled__\n",
    "- Compiling a model means telling the computer to lazily evaluate:\n",
    "    - The architecture\n",
    "    - Optimization method\n",
    "    - Number of batches\n",
    "    - Metrics to follow\n",
    "- Depending on the type of problem the appropriate parameters will need to be selected\n",
    "- Inputs for the compilation method include:\n",
    "    - `optimizer`: the type of optimization method used during training, common parameters include: `AdamOptimizer`, `RMSPropOptimizer`, `GradientDescentOptimizer`\n",
    "    - ` loss`: function to minimize during optimization\n",
    "        - `mse`: regression\n",
    "        - `categorical_crossentropy`: multiclass-classificaation\n",
    "        - `binary_crossentropy`: vanilla classification\n",
    "    - `mae`: metrics used to monitor training"
   ]
  },
  {
   "cell_type": "code",
   "execution_count": 7,
   "metadata": {},
   "outputs": [],
   "source": [
    "# For a multi-class classification problem\n",
    "model.compile(optimizer='rmsprop',\n",
    "              loss='categorical_crossentropy',\n",
    "              metrics=['accuracy'])"
   ]
  },
  {
   "cell_type": "markdown",
   "metadata": {},
   "source": [
    "- There might be times when you want to setup a __custom loss metric__:\n",
    "```{python}\n",
    "# --- For custom metrics ---\n",
    "# Import keras backend\n",
    "import keras.backend as K\n",
    "# - Customer metric - \n",
    "def mean_pred(y_true, y_pred):\n",
    "    return K.mean(y_pred)\n",
    "# Compile model with custom metric\n",
    "model.compile(optimizer='rmsprop',\n",
    "              loss='binary_crossentropy',\n",
    "              metrics=['accuracy', mean_pred])\n",
    "```\n",
    "\n",
    "- Setting the __optimization hyperparameters __ can also be done before compiling:\n",
    "```\n",
    "sgd = SGD(lr=0.01, decay=1e-6, momentum=0.9, nesterov=True)\n",
    "model.compile(loss='categorical_crossentropy',\n",
    "              optimizer=sgd,\n",
    "              metrics=['accuracy'])\n",
    "```\n",
    "- There are many __Optimizers__ to choose from, read more at:\n",
    " * https://keras.io/optimizers/"
   ]
  },
  {
   "cell_type": "markdown",
   "metadata": {},
   "source": [
    "### Training and evaluating\n",
    "- Use the function `fit` to train the model\n",
    "- Several options exist within the `fit` call:\n",
    "    - `batch_size`: \n",
    "        - The model slices the data into smaller batches and iterates over these batches during training\n",
    "        - This integer specifies the size of each batch\n",
    "        - Recall smaller batch sizes occupy less memory and are closer to online gradient descent\n",
    "    - `epochs` : number of times to iterate over the data\n",
    "    - `shuffle`: shuffle the data\n",
    "    - `validation_data`: validation set\n"
   ]
  },
  {
   "cell_type": "code",
   "execution_count": 8,
   "metadata": {},
   "outputs": [
    {
     "name": "stdout",
     "output_type": "stream",
     "text": [
      "Train on 57000 samples, validate on 3000 samples\n",
      "Epoch 1/10\n",
      "57000/57000 [==============================] - 1s 20us/step - loss: 0.6829 - accuracy: 0.8394 - val_loss: 0.2918 - val_accuracy: 0.9143\n",
      "Epoch 2/10\n",
      "57000/57000 [==============================] - 1s 18us/step - loss: 0.2493 - accuracy: 0.9279 - val_loss: 0.2130 - val_accuracy: 0.9350\n",
      "Epoch 3/10\n",
      "57000/57000 [==============================] - 1s 17us/step - loss: 0.1910 - accuracy: 0.9444 - val_loss: 0.1765 - val_accuracy: 0.9467\n",
      "Epoch 4/10\n",
      "57000/57000 [==============================] - 1s 17us/step - loss: 0.1577 - accuracy: 0.9539 - val_loss: 0.1548 - val_accuracy: 0.9537\n",
      "Epoch 5/10\n",
      "57000/57000 [==============================] - 1s 16us/step - loss: 0.1350 - accuracy: 0.9602 - val_loss: 0.1410 - val_accuracy: 0.9577\n",
      "Epoch 6/10\n",
      "57000/57000 [==============================] - 1s 17us/step - loss: 0.1183 - accuracy: 0.9651 - val_loss: 0.1317 - val_accuracy: 0.9593\n",
      "Epoch 7/10\n",
      "57000/57000 [==============================] - 1s 16us/step - loss: 0.1055 - accuracy: 0.9691 - val_loss: 0.1253 - val_accuracy: 0.9617\n",
      "Epoch 8/10\n",
      "57000/57000 [==============================] - 1s 17us/step - loss: 0.0953 - accuracy: 0.9721 - val_loss: 0.1210 - val_accuracy: 0.9630\n",
      "Epoch 9/10\n",
      "57000/57000 [==============================] - 1s 17us/step - loss: 0.0870 - accuracy: 0.9745 - val_loss: 0.1184 - val_accuracy: 0.9647\n",
      "Epoch 10/10\n",
      "57000/57000 [==============================] - 1s 18us/step - loss: 0.0801 - accuracy: 0.9765 - val_loss: 0.1168 - val_accuracy: 0.9640\n",
      "Batch size 64: takes 10.023396968841553 seconds to complete\n"
     ]
    }
   ],
   "source": [
    "# Train neural network\n",
    "from time import time\n",
    "start_time = time()\n",
    "history_64 = model.fit(X_train, Y_train,\n",
    "              batch_size=64, # Batch sizes - runtime scales ~linearly\n",
    "              verbose = 1,\n",
    "              epochs=10, \n",
    "              shuffle=False,\n",
    "              validation_data=(X_val, Y_val))\n",
    "time_to_complete = time()- start_time\n",
    "print(\"Batch size 64: takes {} seconds to complete\".format(time_to_complete))"
   ]
  },
  {
   "cell_type": "code",
   "execution_count": 9,
   "metadata": {},
   "outputs": [
    {
     "data": {
      "image/png": "[encoded data removed]",
      "text/plain": [
       "<Figure size 432x288 with 1 Axes>"
      ]
     },
     "metadata": {
      "needs_background": "light"
     },
     "output_type": "display_data"
    }
   ],
   "source": [
    "# --- Plotting data/training model ---\n",
    "import matplotlib.pyplot as plt\n",
    "\n",
    "# Get loss function\n",
    "loss = history_64.history['loss']\n",
    "val_loss = history_64.history['val_loss']\n",
    "\n",
    "# Setup grid for plotting\n",
    "epochs =range(1, len(loss) + 1)\n",
    "# Plot\n",
    "plt.plot(epochs, loss, 'red', label='Training Loss')\n",
    "plt.plot(epochs, val_loss, 'blue', label='Validation Loss')\n",
    "plt.title('Training and validation loss')\n",
    "plt.xlabel('Epochs')\n",
    "plt.ylabel('Loss')\n",
    "plt.legend()\n",
    "plt.show()"
   ]
  },
  {
   "cell_type": "markdown",
   "metadata": {},
   "source": [
    "### Evaluating model performance\n",
    "- Several options exist for evaluate model performance\n",
    "- We can predict the output values using:\n",
    "    - `model.predict` and \n",
    "    - `model.predict_classes` - wrapper for model.predict for classes\n",
    "- Alternatively we can use the `model.evaluate` function and score it's performance "
   ]
  },
  {
   "cell_type": "code",
   "execution_count": 10,
   "metadata": {},
   "outputs": [
    {
     "name": "stdout",
     "output_type": "stream",
     "text": [
      "10000/10000 [==============================] - 0s 12us/step\n"
     ]
    }
   ],
   "source": [
    "# --- Evaluation metrics ---\n",
    "import numpy as np\n",
    "# Evaluation metrics\n",
    "score = model.evaluate(X_test, Y_test, batch_size=64)\n",
    "predict_probabilities = model.predict(X_test, batch_size = 64)\n",
    "predict_classes = model.predict_classes(X_test, batch_size = 64)\n",
    "\n",
    "# -- Check to show predict and predict_classes are the same --\n",
    "classes_from_probs =  np.argmax(predict_probabilities, axis = 1)\n",
    "assert(np.alltrue(predict_classes == classes_from_probs))"
   ]
  },
  {
   "cell_type": "code",
   "execution_count": 11,
   "metadata": {},
   "outputs": [
    {
     "name": "stdout",
     "output_type": "stream",
     "text": [
      "\n",
      "On the test set:\n",
      "The mean validation loss is: 0.10733859360888601,\n",
      "The mean accuracy score is: 0.967199981212616\n",
      "The first 5 predict probabilites are: [7 2 1 0 4]\n",
      "\n"
     ]
    }
   ],
   "source": [
    "print(\n",
    "\"\"\"\n",
    "On the test set:\n",
    "The mean validation loss is: {mean_test_loss},\n",
    "The mean accuracy score is: {mean_test_accuracy}\n",
    "The first 5 predict probabilites are: {pred_class}\n",
    "\"\"\".format(mean_test_loss = score[0],\n",
    "           mean_test_accuracy = score[1],\n",
    "          pred_class = predict_classes[:5]))"
   ]
  },
  {
   "cell_type": "markdown",
   "metadata": {},
   "source": [
    "### Regularization and parameter tuning\n",
    "- Previously we saw that L1/L2 regularization could easily be incorporated in the activation unit\n",
    "- Other regularizers are added to the network slightly differently\n",
    "- Below we present a network with dropout, custom RMSprop parameters and early stopping"
   ]
  },
  {
   "cell_type": "code",
   "execution_count": 12,
   "metadata": {},
   "outputs": [
    {
     "name": "stdout",
     "output_type": "stream",
     "text": [
      "Model: \"sequential_4\"\n",
      "_________________________________________________________________\n",
      "Layer (type)                 Output Shape              Param #   \n",
      "=================================================================\n",
      "dense_12 (Dense)             (None, 64)                50240     \n",
      "_________________________________________________________________\n",
      "dropout_1 (Dropout)          (None, 64)                0         \n",
      "_________________________________________________________________\n",
      "dense_13 (Dense)             (None, 64)                4160      \n",
      "_________________________________________________________________\n",
      "dropout_2 (Dropout)          (None, 64)                0         \n",
      "_________________________________________________________________\n",
      "dense_14 (Dense)             (None, 10)                650       \n",
      "=================================================================\n",
      "Total params: 55,050\n",
      "Trainable params: 55,050\n",
      "Non-trainable params: 0\n",
      "_________________________________________________________________\n"
     ]
    },
    {
     "data": {
      "text/plain": [
       "<keras.callbacks.callbacks.History at 0x7fa324308210>"
      ]
     },
     "execution_count": 12,
     "metadata": {},
     "output_type": "execute_result"
    }
   ],
   "source": [
    "# --- Setting up a ReLu Sequential Model with Dropout  ---\n",
    "from keras.layers import Dropout\n",
    "# Build model\n",
    "model4 = Sequential()\n",
    "model4.add(Dense(64,activation='relu', input_shape = (784,)))\n",
    "model4.add(Dropout(0.2))\n",
    "model4.add(Dense(64, activation='relu'))\n",
    "model4.add(Dropout(0.2))\n",
    "model4.add(Dense(10, activation='softmax'))\n",
    "model4.summary()\n",
    "\n",
    "# --- Modifying training parameters ---\n",
    "from keras.optimizers import RMSprop\n",
    "opt = RMSprop(lr=0.0001, decay=1e-6)\n",
    "model4.compile(loss='categorical_crossentropy', \n",
    "              optimizer=opt, \n",
    "              metrics=['accuracy'])\n",
    "\n",
    "# --- Early stopping ---\n",
    "from keras.callbacks import EarlyStopping\n",
    "early_stopping_monitor = EarlyStopping(patience=2)\n",
    "model4.fit(X_train, Y_train,\n",
    "               batch_size=64, \n",
    "               epochs= 3,\n",
    "               verbose = 0,\n",
    "               validation_data=(X_val, Y_val),\n",
    "               callbacks=[early_stopping_monitor])"
   ]
  },
  {
   "cell_type": "markdown",
   "metadata": {},
   "source": [
    "### Saving/reloading models\n",
    "- Saving a model in `HDF5` format allows you to load\n",
    "    - The architecture of the model, allowing to re-create the model\n",
    "    - Weights\n",
    "    - Training configuration (loss, optimizer)\n",
    "    - State of the optimizer (you can resume training where you left off)\n",
    "- To save a model in `HDF5` format you will need to install `h5py`\n",
    "- Models can be saved by architecture and weight components in different formats (`YAML`, `json`)\n",
    "- Componentizing this approach offers certain benefits:\n",
    "    - Saving architecture's rather than all the weights frees up space\n",
    "    - Saving only weights makes sense if you already have the model\n",
    "    - Saving models in different formats allows you to port them to other `tensorflow` and `keras` ports/backends such as `tensorflow.js`"
   ]
  },
  {
   "cell_type": "code",
   "execution_count": 13,
   "metadata": {},
   "outputs": [],
   "source": [
    "# --- Setting up directory --\n",
    "import os\n",
    "base_dir = os.getcwd()\n",
    "\n",
    "# --- Saving full models in HDF5 Format ---\n",
    "from keras.models import load_model\n",
    "# Save model in HDF5 fomrat\n",
    "model.save(os.path.join(base_dir,'my_model.h5')) \n",
    "# Deletes existing model\n",
    "del model \n",
    "\n",
    "# --- Load model ---\n",
    "# Returns a compiled model identical to the previous one\n",
    "model = load_model(os.path.join(base_dir,'my_model.h5'))"
   ]
  },
  {
   "cell_type": "code",
   "execution_count": 14,
   "metadata": {},
   "outputs": [],
   "source": [
    "# --- Saving only a models architecture ---\n",
    "# Convert model to JSON\n",
    "json_string = model.to_json()\n",
    "\n",
    "# Convert model to YAML\n",
    "yaml_string = model.to_yaml()\n",
    "\n",
    "# --- Reconstructing model from different formats ---\n",
    "from keras.models import model_from_json\n",
    "from keras.models import model_from_yaml\n",
    "# JSON model reload\n",
    "model_json = model_from_json(json_string)\n",
    "# YAML model load\n",
    "model_yaml = model_from_yaml(yaml_string)"
   ]
  },
  {
   "cell_type": "code",
   "execution_count": 15,
   "metadata": {},
   "outputs": [],
   "source": [
    "# --- Saving/Loading Model's Weights (only) ---\n",
    "# Vanilla save/load\n",
    "model.save_weights(os.path.join(base_dir,'my_model_weights.h5'))\n",
    "model.load_weights(os.path.join(base_dir,'my_model_weights.h5'))\n",
    "\n",
    "# --- Transfer learning approach to re-load ---\n",
    "# When we load weights into a different \n",
    "# architeture with some common layers\n",
    "model.load_weights(os.path.join(base_dir,'my_model_weights.h5'), \n",
    "                   by_name=True)\n"
   ]
  },
  {
   "cell_type": "markdown",
   "metadata": {},
   "source": [
    "### Utility Functions\n",
    "- There are many functions which we have not covered however this should be enough to get you started\n",
    "- Some other utility functions include `shape`,`configuration` and `weights` which are applied to the model, see below for some examples:    "
   ]
  },
  {
   "cell_type": "code",
   "execution_count": 16,
   "metadata": {},
   "outputs": [
    {
     "name": "stdout",
     "output_type": "stream",
     "text": [
      "(None, 10)\n",
      "{'name': 'sequential_1', 'layers': [{'class_name': 'Dense', 'config': {'name': 'dense_1', 'trainable': True, 'batch_input_shape': (None, 784), 'dtype': 'float32', 'units': 64, 'activation': 'sigmoid', 'use_bias': True, 'kernel_initializer': {'class_name': 'VarianceScaling', 'config': {'scale': 1.0, 'mode': 'fan_avg', 'distribution': 'uniform', 'seed': None}}, 'bias_initializer': {'class_name': 'Zeros', 'config': {}}, 'kernel_regularizer': None, 'bias_regularizer': None, 'activity_regularizer': None, 'kernel_constraint': None, 'bias_constraint': None}}, {'class_name': 'Dense', 'config': {'name': 'dense_2', 'trainable': True, 'dtype': 'float32', 'units': 64, 'activation': 'sigmoid', 'use_bias': True, 'kernel_initializer': {'class_name': 'VarianceScaling', 'config': {'scale': 1.0, 'mode': 'fan_avg', 'distribution': 'uniform', 'seed': None}}, 'bias_initializer': {'class_name': 'Zeros', 'config': {}}, 'kernel_regularizer': None, 'bias_regularizer': None, 'activity_regularizer': None, 'kernel_constraint': None, 'bias_constraint': None}}, {'class_name': 'Dense', 'config': {'name': 'dense_3', 'trainable': True, 'dtype': 'float32', 'units': 10, 'activation': 'softmax', 'use_bias': True, 'kernel_initializer': {'class_name': 'VarianceScaling', 'config': {'scale': 1.0, 'mode': 'fan_avg', 'distribution': 'uniform', 'seed': None}}, 'bias_initializer': {'class_name': 'Zeros', 'config': {}}, 'kernel_regularizer': None, 'bias_regularizer': None, 'activity_regularizer': None, 'kernel_constraint': None, 'bias_constraint': None}}]}\n"
     ]
    },
    {
     "data": {
      "text/plain": [
       "(None, 64)"
      ]
     },
     "execution_count": 16,
     "metadata": {},
     "output_type": "execute_result"
    }
   ],
   "source": [
    "# --- Utility functions ---\n",
    "print(model.output_shape)\n",
    "print(model.get_config())\n",
    "model.get_weights()\n",
    "model.layers\n",
    "model.layers[0].input_shape\n",
    "model.layers[0].output_shape"
   ]
  }
 ],
 "metadata": {
  "kernelspec": {
   "display_name": "Python 3",
   "language": "python",
   "name": "python3"
  },
  "language_info": {
   "codemirror_mode": {
    "name": "ipython",
    "version": 3
   },
   "file_extension": ".py",
   "mimetype": "text/x-python",
   "name": "python",
   "nbconvert_exporter": "python",
   "pygments_lexer": "ipython3",
   "version": "3.7.4"
  },
  "toc": {
   "base_numbering": 1,
   "nav_menu": {},
   "number_sections": true,
   "sideBar": true,
   "skip_h1_title": false,
   "title_cell": "Table of Contents",
   "title_sidebar": "Contents",
   "toc_cell": false,
   "toc_position": {},
   "toc_section_display": true,
   "toc_window_display": false
  }
 },
 "nbformat": 4,
 "nbformat_minor": 2
}
